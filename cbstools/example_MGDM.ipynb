{
 "cells": [
  {
   "cell_type": "code",
   "execution_count": 1,
   "metadata": {
    "collapsed": false
   },
   "outputs": [],
   "source": [
    "import cbstools as cbs\n",
    "from os.path import join\n",
    "from os.path import abspath\n",
    "import nibabel as nb"
   ]
  },
  {
   "cell_type": "code",
   "execution_count": 2,
   "metadata": {
    "collapsed": false
   },
   "outputs": [
    {
     "name": "stdout",
     "output_type": "stream",
     "text": [
      "/home/chris/mipav/plugins/atlases/brain-segmentation-prior3.0/\n",
      "/home/chris/Documents/code/python/cbstools-python/ToloplogyLUT/\n"
     ]
    }
   ],
   "source": [
    "data_dir='/home/chris/Documents/code/python/cbstools-python/test-python'\n",
    "out_dir='/home/chris/Documents/code/python/cbstools-python/test-python/out'\n",
    "\n",
    "t1_fname='t1map_stripped.nii.gz'\n",
    "uni_fname='uni_stripped.nii.gz'\n",
    "pre_fname='filters.nii.gz'\n",
    "print(cbs.ATLAS_DIR) #as defined in your defaults file\n",
    "print(cbs.TOPOLOGY_LUT_DIR)"
   ]
  },
  {
   "cell_type": "code",
   "execution_count": 3,
   "metadata": {
    "collapsed": false
   },
   "outputs": [
    {
     "name": "stdout",
     "output_type": "stream",
     "text": [
      "<jcc.JCCEnv object at 0x7f90127f2e10>\n",
      "Java virtual machine successfully started.\n"
     ]
    }
   ],
   "source": [
    "cbs.setup_JVM()"
   ]
  },
  {
   "cell_type": "code",
   "execution_count": 14,
   "metadata": {
    "collapsed": false,
    "scrolled": true
   },
   "outputs": [
    {
     "name": "stdout",
     "output_type": "stream",
     "text": [
      "Thank you for choosing the MGDM segmentation from the cbstools for your brain segmentation needs\n",
      "Sit back and relax, let the magic of algorithms happen...\n",
      "Atlas file: /home/chris/mipav/plugins/atlases/brain-segmentation-prior3.0/brain-atlas-3.0.3.txt\n",
      "Topology LUT durectory: /home/chris/Documents/code/python/cbstools-python/ToloplogyLUT/\n",
      "\n",
      "Input files and filetypes:\n",
      "  1  ['/home/chris/Documents/code/python/cbstools-python/test-python/uni_stripped.nii.gz', 'MP2RAGE7T']\n",
      "Executing MGDM on your inputs\n",
      "Don't worry, the magic is happening!\n",
      "/home/chris/Documents/code/python/cbstools-python/test-python/out/uni_stripped_seg_cjs.nii.gz\n",
      "Data stored in: /home/chris/Documents/code/python/cbstools-python/test-python/out\n",
      "Execution completed\n"
     ]
    }
   ],
   "source": [
    "cbs=reload(cbs)\n",
    "cbs.MGDMBrainSegmentation([[join(data_dir,uni_fname),\"MP2RAGE7T\"]],\n",
    "                             output_dir=out_dir,atlas_file=None, topology_lut_dir=None)"
   ]
  },
  {
   "cell_type": "code",
   "execution_count": 15,
   "metadata": {
    "collapsed": false
   },
   "outputs": [
    {
     "name": "stdout",
     "output_type": "stream",
     "text": [
      "Thank you for choosing the MGDM segmentation from the cbstools for your brain segmentation needs\n",
      "Sit back and relax, let the magic of algorithms happen...\n",
      "\n",
      "Atlas file: /home/chris/mipav/plugins/atlases/brain-segmentation-prior3.0/brain-atlas-3.0.3.txt\n",
      "Topology LUT durectory: /home/chris/Documents/code/python/cbstools-python/ToloplogyLUT/\n",
      "\n",
      "Input files and filetypes:\n",
      "  1  ['/home/chris/Documents/code/python/cbstools-python/test-python/uni_stripped.nii.gz', 'MP2RAGE7T']\n",
      "Input files and filetypes:\n",
      "  2  ['/home/chris/Documents/code/python/cbstools-python/test-python/filters.nii.gz', 'Filters']\n",
      "Executing MGDM on your inputs\n",
      "Don't worry, the magic is happening!\n",
      "/home/chris/Documents/code/python/cbstools-python/test-python/out/uni_stripped_seg_cjs.nii.gz\n",
      "Data stored in: /home/chris/Documents/code/python/cbstools-python/test-python/out\n",
      "Execution completed\n"
     ]
    }
   ],
   "source": [
    "cbs=reload(cbs)\n",
    "cbs.MGDMBrainSegmentation([[join(data_dir,uni_fname),\"MP2RAGE7T\"],[join(data_dir,pre_fname),\"Filters\"]],\n",
    "                             output_dir=out_dir,atlas_file=None, topology_lut_dir=None)\n"
   ]
  },
  {
   "cell_type": "code",
   "execution_count": null,
   "metadata": {
    "collapsed": true
   },
   "outputs": [],
   "source": []
  }
 ],
 "metadata": {
  "kernelspec": {
   "display_name": "Python 2",
   "language": "python",
   "name": "python2"
  },
  "language_info": {
   "codemirror_mode": {
    "name": "ipython",
    "version": 2
   },
   "file_extension": ".py",
   "mimetype": "text/x-python",
   "name": "python",
   "nbconvert_exporter": "python",
   "pygments_lexer": "ipython2",
   "version": "2.7.10"
  }
 },
 "nbformat": 4,
 "nbformat_minor": 0
}
